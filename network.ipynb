{
 "cells": [
  {
   "cell_type": "markdown",
   "metadata": {
    "cell_id": "ce386e1d3b7f4d3f9e427e772cf47751",
    "color": "purple",
    "deepnote_cell_type": "text-cell-callout"
   },
   "source": [
    "> /work/network_traffic_sample.csv"
   ]
  },
  {
   "cell_type": "code",
   "execution_count": null,
   "metadata": {
    "cell_id": "0db01cd635104679bcdcecda571d1e26",
    "deepnote_cell_type": "code",
    "deepnote_to_be_reexecuted": true,
    "deepnote_variable_name": "",
    "sql_integration_id": ""
   },
   "outputs": [],
   "source": [
    "import pandas as pd\n",
    "\n",
    "# Load the CSV file\n",
    "file_path = '/work/network_traffic_sample.csv'\n",
    "network_data = pd.read_csv(file_path)\n",
    "network_data"
   ]
  },
  {
   "cell_type": "markdown",
   "metadata": {
    "cell_id": "4433ce4fed6b4dd8bce2680b19eae481",
    "deepnote_cell_type": "text-cell-p"
   },
   "source": [
    "It seems there was an issue with the file path or loading the file. Let me adjust and try again."
   ]
  },
  {
   "cell_type": "code",
   "execution_count": null,
   "metadata": {
    "cell_id": "fa065580f7ba4f9fb41e377bc176d70f",
    "deepnote_cell_type": "code",
    "deepnote_variable_name": "",
    "execution_context_id": "d65a6f49-b707-4780-8696-b6c431429d98",
    "execution_millis": 266,
    "execution_start": 1753644940420,
    "source_hash": "582c34e2",
    "sql_integration_id": ""
   },
   "outputs": [],
   "source": [
    "import pandas as pd\n",
    "\n",
    "# Reload the CSV file after importing pandas\n",
    "file_path = 'network_traffic_sample.csv'\n",
    "network_data = pd.read_csv(file_path)\n",
    "network_data"
   ]
  },
  {
   "cell_type": "markdown",
   "metadata": {
    "cell_id": "e0e7e8d892ee48afa1b0463b664a5d26",
    "deepnote_cell_type": "text-cell-p"
   },
   "source": [
    "The network traffic data has been successfully loaded. Let me know if you need any specific analysis or processing."
   ]
  },
  {
   "cell_type": "markdown",
   "metadata": {
    "cell_id": "8cbb0c1d4ae741e694a16f7086cb0a29",
    "color": "purple",
    "deepnote_cell_type": "text-cell-callout"
   },
   "source": [
    "> Visualize Protocol by BytesTransferred using a bar chart."
   ]
  },
  {
   "cell_type": "code",
   "execution_count": null,
   "metadata": {
    "cell_id": "a0dc59d5b56f4f8994968cbbf49e6049",
    "deepnote_cell_type": "code",
    "deepnote_variable_name": "",
    "execution_context_id": "d65a6f49-b707-4780-8696-b6c431429d98",
    "execution_millis": 1206,
    "execution_start": 1753645276362,
    "source_hash": "b3255c4b",
    "sql_integration_id": ""
   },
   "outputs": [],
   "source": [
    "import matplotlib.pyplot as plt\n",
    "\n",
    "# Group data by Protocol and sum BytesTransferred\n",
    "protocol_data = network_data.groupby('Protocol')['BytesTransferred'].sum().sort_values()\n",
    "\n",
    "# Plot the data\n",
    "plt.figure(figsize=(10, 6))\n",
    "protocol_data.plot(kind='bar', color='skyblue')\n",
    "plt.title('Total Bytes Transferred by Protocol')\n",
    "plt.xlabel('Protocol')\n",
    "plt.ylabel('Bytes Transferred')\n",
    "plt.xticks(rotation=45)\n",
    "plt.tight_layout()\n",
    "plt.show()"
   ]
  },
  {
   "cell_type": "markdown",
   "metadata": {
    "cell_id": "99608f55f03840058044c09f1d9acf99",
    "deepnote_cell_type": "text-cell-p"
   },
   "source": [
    "The bar chart visualizing the total Bytes Transferred by Protocol has been displayed.\n",
    "\n",
    "The bar chart compares data usage across various network protocols. HTTP shows the highest data transfer, followed closely by SSH and DNS, suggesting these protocols are heavily used for web access, secure communications, and domain name resolution. FTP and SMTP follow with moderate levels of data transfer, typically associated with file transfers and email communication. HTTPS, despite being the secure version of HTTP, records the lowest data transfer, possibly indicating either fewer secure transactions or a focus on unencrypted traffic in this dataset. The visualization highlights how different protocols contribute to overall network traffic."
   ]
  },
  {
   "cell_type": "code",
   "execution_count": null,
   "metadata": {
    "cell_id": "76b7f806032b4113ada74f6dfccad372",
    "deepnote_cell_type": "code",
    "deepnote_variable_name": "",
    "execution_context_id": "d65a6f49-b707-4780-8696-b6c431429d98",
    "execution_millis": 2,
    "execution_start": 1753645730908,
    "source_hash": "aebd7f6f",
    "sql_integration_id": ""
   },
   "outputs": [],
   "source": [
    "# Check the data types of the columns to identify the issue\n",
    "network_data.dtypes"
   ]
  },
  {
   "cell_type": "code",
   "execution_count": null,
   "metadata": {
    "cell_id": "33ffa1be0dd14c4fbcaa57a20a3be984",
    "deepnote_cell_type": "code",
    "deepnote_variable_name": "",
    "execution_context_id": "d65a6f49-b707-4780-8696-b6c431429d98",
    "execution_millis": 406,
    "execution_start": 1753645753288,
    "source_hash": "bb68e847",
    "sql_integration_id": ""
   },
   "outputs": [],
   "source": [
    "# Now that the 'Timestamp' column is cleaned and parsed, let's reattempt grouping and plotting.\n",
    "time_protocol_data = network_data.groupby(['Timestamp', 'Protocol'])['BytesTransferred'].sum().unstack()\n",
    "\n",
    "# Plot the data\n",
    "time_protocol_data.plot(figsize=(12, 8), marker='o')\n",
    "plt.title('Traffic Volume Over Time by Protocol')\n",
    "plt.xlabel('Time')\n",
    "plt.ylabel('Bytes Transferred')\n",
    "plt.legend(title='Protocol')\n",
    "plt.grid(True)\n",
    "plt.tight_layout()\n",
    "plt.show()"
   ]
  },
  {
   "cell_type": "markdown",
   "metadata": {
    "cell_id": "cb5650ec47e44db68ed4ba17b443cd23",
    "deepnote_cell_type": "text-cell-p"
   },
   "source": [
    "The line chart visualizing traffic volume over time by protocol has been successfully displayed.\n",
    "\n",
    "The chart illustrates how network traffic volume (in bytes transferred) varies over time across six different protocols: DNS, FTP, HTTP, HTTPS, SMTP, and SSH. Each protocol shows fluctuating traffic levels, indicating dynamic usage patterns over time.\n",
    "\n",
    "    HTTP and FTP frequently spike, suggesting bursts of activity, possibly from web browsing or file transfers.\n",
    "\n",
    "    DNS and SMTP show relatively consistent activity but with occasional drops and peaks.\n",
    "\n",
    "    HTTPS appears less frequent but has some high-volume moments, indicating sporadic but significant secure web activity.\n",
    "\n",
    "    SSH traffic maintains moderate volume across the timeline, which may reflect consistent remote access or administrative actions.\n",
    "\n",
    "The timestamp labels on the x-axis are densely packed, suggesting high-frequency logging, but could benefit from formatting or rotation for clarity."
   ]
  },
  {
   "cell_type": "code",
   "execution_count": null,
   "metadata": {
    "cell_id": "d6adb5d2e0ea4fd6b772d2c5a17ec847",
    "deepnote_cell_type": "code",
    "deepnote_variable_name": "",
    "execution_context_id": "d65a6f49-b707-4780-8696-b6c431429d98",
    "execution_millis": 65,
    "execution_start": 1753646165922,
    "source_hash": "fd53efd",
    "sql_integration_id": ""
   },
   "outputs": [],
   "source": [
    "# Count the occurrences of each Status (ALLOWED vs. BLOCKED)\n",
    "status_counts = network_data['Status'].value_counts()\n",
    "\n",
    "# Plot the pie chart\n",
    "plt.figure(figsize=(8, 8))\n",
    "status_counts.plot(kind='pie', autopct='%1.1f%%', startangle=90, colors=['lightgreen', 'salmon'])\n",
    "plt.title('Proportion of Traffic Events: ALLOWED vs. BLOCKED')\n",
    "plt.ylabel('')  # Remove the y-label for better aesthetics\n",
    "plt.show()"
   ]
  },
  {
   "cell_type": "markdown",
   "metadata": {
    "cell_id": "5bc4a20d79a64431842866acafb0aaa5",
    "deepnote_cell_type": "text-cell-p"
   },
   "source": [
    "The pie chart visualizing the proportion of traffic events (ALLOWED vs. BLOCKED) has been displayed. Indicating that 86.0% are ALLOWED and 14.0% are BLOCKED"
   ]
  },
  {
   "cell_type": "code",
   "execution_count": null,
   "metadata": {
    "cell_id": "5166167a901c4d4694de0181eb1adbac",
    "deepnote_cell_type": "code",
    "deepnote_variable_name": "",
    "execution_context_id": "d65a6f49-b707-4780-8696-b6c431429d98",
    "execution_millis": 1,
    "execution_start": 1753646594352,
    "source_hash": "d7144b18",
    "sql_integration_id": ""
   },
   "outputs": [],
   "source": [
    "# Filter data for BLOCKED traffic and group by SourceIP to count occurrences\n",
    "blocked_traffic = network_data[network_data['Status'] == 'BLOCKED']\n",
    "top_blocked_ips = blocked_traffic['SourceIP'].value_counts().head(5)\n",
    "\n",
    "# Create a DataFrame for better visualization\n",
    "top_blocked_ips_df = top_blocked_ips.reset_index()\n",
    "top_blocked_ips_df.columns = ['SourceIP', 'BlockedCount']\n",
    "top_blocked_ips_df"
   ]
  },
  {
   "cell_type": "markdown",
   "metadata": {
    "cell_id": "3772f08ab4c64f968700c6712e4a857a",
    "deepnote_cell_type": "text-cell-p"
   },
   "source": [
    "The table displaying the top 5 Source IPs by BLOCKED traffic has been created. Let me know if you need further analysis or adjustments."
   ]
  },
  {
   "cell_type": "code",
   "execution_count": null,
   "metadata": {
    "cell_id": "330db69ff1a34e0e903675d72dd4e781",
    "deepnote_cell_type": "code",
    "deepnote_variable_name": "",
    "execution_context_id": "36b1a6cf-b7ac-4aba-9202-eb9b95404ce7",
    "execution_millis": 1269,
    "execution_start": 1753661615441,
    "source_hash": "a71765a7",
    "sql_integration_id": ""
   },
   "outputs": [],
   "source": [
    "import matplotlib.pyplot as plt\n",
    "\n",
    "# Group data by Country and sum BytesTransferred\n",
    "country_traffic = network_data.groupby('Country')['BytesTransferred'].sum().sort_values(ascending=False)\n",
    "\n",
    "# Plot the data\n",
    "plt.figure(figsize=(12, 8))\n",
    "country_traffic.plot(kind='bar', color='orange')\n",
    "plt.title('Total Bytes Transferred by Country')\n",
    "plt.xlabel('Country')\n",
    "plt.ylabel('Bytes Transferred')\n",
    "plt.xticks(rotation=45)\n",
    "plt.tight_layout()\n",
    "plt.show()"
   ]
  },
  {
   "cell_type": "markdown",
   "metadata": {
    "cell_id": "410115e7ab3c4584a3b8c8872aa88930",
    "deepnote_cell_type": "text-cell-p"
   },
   "source": [
    "The bar chart visualizing the total Bytes Transferred by Country has been displayed. Let me know if you need further analysis or adjustments."
   ]
  },
  {
   "cell_type": "code",
   "execution_count": null,
   "metadata": {},
   "outputs": [],
   "source": [
    "# Fix the timestamp format issue by replacing special characters\n",
    "network_data['Timestamp'] = network_data['Timestamp'].str.replace('+AC0-', '-')\n",
    "\n",
    "# Convert 'Timestamp' to datetime and extract hour\n",
    "network_data['Hour'] = pd.to_datetime(network_data['Timestamp']).dt.hour\n",
    "\n",
    "# Group by hour and sum BytesTransferred\n",
    "traffic_by_hour = network_data.groupby('Hour')['BytesTransferred'].sum()\n",
    "\n",
    "# Plot the data\n",
    "plt.figure(figsize=(12, 6))\n",
    "traffic_by_hour.plot(kind='bar', color='purple')\n",
    "plt.title('Traffic Volume by Hour of Day')\n",
    "plt.xlabel('Hour of Day')\n",
    "plt.ylabel('Bytes Transferred')\n",
    "plt.xticks(rotation=0)\n",
    "plt.grid(True)\n",
    "plt.tight_layout()\n",
    "plt.show()"
   ]
  },
  {
   "cell_type": "markdown",
   "metadata": {
    "cell_id": "e8c6e04b1f9e4c6a9317770b11e806a0",
    "color": "purple",
    "deepnote_cell_type": "text-cell-callout"
   },
   "source": [
    "The analysis of traffic events by time of day has been visualized, identifying peak usage hours.\n",
    "\n",
    "The bar chart shows traffic volume by hour of day, with peak usage at 9 AM, 10 AM, and 11 AM, each around 20,000 bytes transferred. Traffic decreases slightly at 8 AM (approximately 15,000 bytes) and 12 PM (around 18,000 bytes)."
   ]
  }
 ],
 "metadata": {
  "deepnote_notebook_id": "133d9225c0cd429990533a6274b747a1",
  "deepnote_persisted_session": {
   "createdAt": "2025-07-27T20:26:16.680Z"
  },
  "kernelspec": {
   "display_name": "Python 3",
   "language": "python",
   "name": "python3"
  },
  "language_info": {
   "name": "python",
   "version": "3.13.3"
  }
 },
 "nbformat": 4,
 "nbformat_minor": 0
}
